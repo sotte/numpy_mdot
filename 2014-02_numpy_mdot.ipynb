{
 "metadata": {
  "name": ""
 },
 "nbformat": 3,
 "nbformat_minor": 0,
 "worksheets": [
  {
   "cells": [
    {
     "cell_type": "code",
     "collapsed": false,
     "input": [
      "%load_ext autoreload\n",
      "%autoreload 2\n",
      "%matplotlib inline\n",
      "import numpy as np"
     ],
     "language": "python",
     "metadata": {},
     "outputs": [],
     "prompt_number": 1
    },
    {
     "cell_type": "markdown",
     "metadata": {},
     "source": [
      "# mdot - easy and fast multi argument dot function"
     ]
    },
    {
     "cell_type": "code",
     "collapsed": false,
     "input": [
      "def mdot_simple(*args): return reduce(np.dot, args)"
     ],
     "language": "python",
     "metadata": {},
     "outputs": [],
     "prompt_number": 2
    },
    {
     "cell_type": "markdown",
     "metadata": {},
     "source": [
      "# Numpy mailinglist discussion"
     ]
    },
    {
     "cell_type": "code",
     "collapsed": false,
     "input": [
      "n = 10000\n",
      "v = np.diag(np.ones(4))\n",
      "x = np.random.randn(n, 4)\n",
      "y = np.random.randn(n, 3)\n",
      "reduce(np.dot, [x, v, x.T, y]).shape"
     ],
     "language": "python",
     "metadata": {},
     "outputs": []
    },
    {
     "cell_type": "code",
     "collapsed": false,
     "input": [
      "def dotp(x, y):\n",
      "    xy = np.dot(x,y)\n",
      "    #print xy.shape\n",
      "    return xy\n",
      "\n",
      "%timeit reduce(dotp, [x, v, x.T, y]).shape"
     ],
     "language": "python",
     "metadata": {},
     "outputs": []
    },
    {
     "cell_type": "code",
     "collapsed": false,
     "input": [
      "def dotTp(x, y):\n",
      "    xy = np.dot(x.T,y.T)\n",
      "    #print xy.shape\n",
      "    return xy.T\n",
      "\n",
      "%timeit reduce(dotTp, [x, v, x.T, y][::-1]).shape"
     ],
     "language": "python",
     "metadata": {},
     "outputs": []
    },
    {
     "cell_type": "code",
     "collapsed": false,
     "input": [
      "res1 = reduce(dotp, [x, v, x.T, y])\n",
      "res2 = reduce(dotTp, [x, v, x.T, y][::-1])\n",
      "\n",
      "assert np.allclose(res1, res2)"
     ],
     "language": "python",
     "metadata": {},
     "outputs": []
    },
    {
     "cell_type": "code",
     "collapsed": false,
     "input": [
      "%timeit reduce(np.dot, [x, v, x.T, y]).shape\n",
      "%timeit reduce(dotp, [x, v, x.T, y]).shape\n",
      "%timeit reduce(dotTp, [x, v, x.T, y][::-1]).shape"
     ],
     "language": "python",
     "metadata": {},
     "outputs": []
    },
    {
     "cell_type": "markdown",
     "metadata": {},
     "source": [
      "# Optimize multiplication\n",
      "\n",
      "Dyn. programming:\n",
      "\n",
      "- define subproblems (and count)\n",
      "- guess (part of sulution) (and count)\n",
      "- recurrence\n",
      "- recurse and memorize or bottom up/top down\n",
      "- solve original problem"
     ]
    },
    {
     "cell_type": "code",
     "collapsed": false,
     "input": [
      "D = np.random.random((10000, 10))\n",
      "A = np.random.random((10, 1000))\n",
      "B = np.random.random((1000, 5))\n",
      "C = np.random.random((5, 50))"
     ],
     "language": "python",
     "metadata": {},
     "outputs": [],
     "prompt_number": 3
    },
    {
     "cell_type": "code",
     "collapsed": false,
     "input": [
      "from mdot import mdot, print_optimal, chain_order_rec, chain_order_for_three"
     ],
     "language": "python",
     "metadata": {},
     "outputs": [],
     "prompt_number": 4
    },
    {
     "cell_type": "code",
     "collapsed": false,
     "input": [
      "%timeit mdot(A, B, C, optimize=True)\n",
      "%timeit np.dot(np.dot(A, B), C)\n",
      "%timeit np.dot(A, np.dot(B, C))"
     ],
     "language": "python",
     "metadata": {},
     "outputs": [
      {
       "output_type": "stream",
       "stream": "stdout",
       "text": [
        "10000 loops, best of 3: 55.1 \u00b5s per loop\n",
        "10000 loops, best of 3: 52.2 \u00b5s per loop"
       ]
      },
      {
       "output_type": "stream",
       "stream": "stdout",
       "text": [
        "\n",
        "1000 loops, best of 3: 981 \u00b5s per loop"
       ]
      },
      {
       "output_type": "stream",
       "stream": "stdout",
       "text": [
        "\n"
       ]
      }
     ],
     "prompt_number": 5
    },
    {
     "cell_type": "markdown",
     "metadata": {},
     "source": [
      "Let's determine the optimal solution to use it later:"
     ]
    },
    {
     "cell_type": "code",
     "collapsed": false,
     "input": [
      "print_optimal(D, A, B, C, names=list(\"DABC\"))"
     ],
     "language": "python",
     "metadata": {},
     "outputs": [
      {
       "output_type": "stream",
       "stream": "stdout",
       "text": [
        "np.dot(np.dot(D, np.dot(A, B)), C)"
       ]
      }
     ],
     "prompt_number": 6
    },
    {
     "cell_type": "markdown",
     "metadata": {},
     "source": [
      "Test 4 arguments"
     ]
    },
    {
     "cell_type": "code",
     "collapsed": false,
     "input": [
      "print \"inline optimization:\"\n",
      "%timeit mdot(D, A, B, C, optimize=True)\n",
      "print \"precalculated optimal parens\"\n",
      "%timeit np.dot(np.dot(D, np.dot(A, B)), C)\n",
      "\n",
      "%timeit np.dot(np.dot(np.dot(D, A), B), C)\n",
      "%timeit np.dot(np.dot(D, A), np.dot(B, C))\n",
      "%timeit np.dot(D, np.dot(A, np.dot(B, C)))\n",
      "%timeit np.dot(D, np.dot(np.dot(A, B), C))\n",
      "%timeit np.dot(np.dot(D, np.dot(A, B)), C)"
     ],
     "language": "python",
     "metadata": {},
     "outputs": [
      {
       "output_type": "stream",
       "stream": "stdout",
       "text": [
        "inline optimization:\n",
        "100 loops, best of 3: 5.38 ms per loop"
       ]
      },
      {
       "output_type": "stream",
       "stream": "stdout",
       "text": [
        "\n",
        "precalculated optimal parens\n",
        "100 loops, best of 3: 5.28 ms per loop"
       ]
      },
      {
       "output_type": "stream",
       "stream": "stdout",
       "text": [
        "\n",
        "1 loops, best of 3: 206 ms per loop"
       ]
      },
      {
       "output_type": "stream",
       "stream": "stdout",
       "text": [
        "\n",
        "1 loops, best of 3: 696 ms per loop"
       ]
      },
      {
       "output_type": "stream",
       "stream": "stdout",
       "text": [
        "\n",
        "100 loops, best of 3: 7.67 ms per loop"
       ]
      },
      {
       "output_type": "stream",
       "stream": "stdout",
       "text": [
        "\n",
        "100 loops, best of 3: 6.74 ms per loop"
       ]
      },
      {
       "output_type": "stream",
       "stream": "stdout",
       "text": [
        "\n",
        "100 loops, best of 3: 5.3 ms per loop"
       ]
      },
      {
       "output_type": "stream",
       "stream": "stdout",
       "text": [
        "\n"
       ]
      }
     ],
     "prompt_number": 7
    },
    {
     "cell_type": "markdown",
     "metadata": {},
     "source": [
      "Test 3 arguments (the hand coded `chain_order_for_three`):"
     ]
    },
    {
     "cell_type": "code",
     "collapsed": false,
     "input": [
      "print \"inline optimization:\"\n",
      "%timeit mdot(A, B, C)\n",
      "print \"precalculated optimal parens:\"\n",
      "%timeit np.dot(np.dot(A, B), C)\n",
      "print \"suboptimal parens:\"\n",
      "%timeit np.dot(A, np.dot(B, C))"
     ],
     "language": "python",
     "metadata": {},
     "outputs": [
      {
       "output_type": "stream",
       "stream": "stdout",
       "text": [
        "inline optimization:\n",
        "10000 loops, best of 3: 55.6 \u00b5s per loop"
       ]
      },
      {
       "output_type": "stream",
       "stream": "stdout",
       "text": [
        "\n",
        "inline optimization:\n",
        "10000 loops, best of 3: 52.4 \u00b5s per loop"
       ]
      },
      {
       "output_type": "stream",
       "stream": "stdout",
       "text": [
        "\n",
        "inline optimization:\n",
        "1000 loops, best of 3: 981 \u00b5s per loop"
       ]
      },
      {
       "output_type": "stream",
       "stream": "stdout",
       "text": [
        "\n"
       ]
      }
     ],
     "prompt_number": 8
    },
    {
     "cell_type": "markdown",
     "metadata": {},
     "source": [
      "Before the optimization `mdot` took 81.7 \u00b5s per loop."
     ]
    },
    {
     "cell_type": "markdown",
     "metadata": {},
     "source": [
      "The overhead is ~.1 ms. It increases (which was to be expected) but is neglectable compared to the actual multiplication ~5.1 ms."
     ]
    },
    {
     "cell_type": "code",
     "collapsed": false,
     "input": [
      "%timeit chain_order_rec([A, B, C])\n",
      "%timeit chain_order_for_three(A, B, C, evaluate=False)"
     ],
     "language": "python",
     "metadata": {},
     "outputs": [
      {
       "output_type": "stream",
       "stream": "stdout",
       "text": [
        "100000 loops, best of 3: 15.9 \u00b5s per loop\n",
        "1000000 loops, best of 3: 1.25 \u00b5s per loop"
       ]
      },
      {
       "output_type": "stream",
       "stream": "stdout",
       "text": [
        "\n"
       ]
      }
     ],
     "prompt_number": 9
    }
   ],
   "metadata": {}
  }
 ]
}