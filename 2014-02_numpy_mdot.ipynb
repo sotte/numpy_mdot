{
 "metadata": {
  "name": "",
  "signature": "sha256:48d77bf82745861859e498d49838e78f7a795194a71cf160bf7c7f0f3449fa7d"
 },
 "nbformat": 3,
 "nbformat_minor": 0,
 "worksheets": [
  {
   "cells": [
    {
     "cell_type": "code",
     "collapsed": false,
     "input": [
      "%load_ext autoreload\n",
      "%autoreload 2\n",
      "%matplotlib inline\n",
      "import numpy as np"
     ],
     "language": "python",
     "metadata": {},
     "outputs": [],
     "prompt_number": 1
    },
    {
     "cell_type": "markdown",
     "metadata": {},
     "source": [
      "# Optimized mdot\n",
      "Create some sample data first."
     ]
    },
    {
     "cell_type": "code",
     "collapsed": false,
     "input": [
      "D = np.random.random((10000, 10))\n",
      "A = np.random.random((10, 1000))\n",
      "B = np.random.random((1000, 5))\n",
      "C = np.random.random((5, 50))"
     ],
     "language": "python",
     "metadata": {},
     "outputs": [],
     "prompt_number": 5
    },
    {
     "cell_type": "code",
     "collapsed": false,
     "input": [
      "from mdot import mdot, print_optimal_chain_order\n",
      "from mdot import _mdot, _mdot_three"
     ],
     "language": "python",
     "metadata": {},
     "outputs": [],
     "prompt_number": 6
    },
    {
     "cell_type": "code",
     "collapsed": false,
     "input": [
      "%timeit mdot(A, B, C, optimize=True)\n",
      "%timeit np.dot(np.dot(A, B), C)\n",
      "%timeit np.dot(A, np.dot(B, C))"
     ],
     "language": "python",
     "metadata": {},
     "outputs": [
      {
       "output_type": "stream",
       "stream": "stdout",
       "text": [
        "10000 loops, best of 3: 53.3 \u00b5s per loop\n",
        "10000 loops, best of 3: 50.7 \u00b5s per loop"
       ]
      },
      {
       "output_type": "stream",
       "stream": "stdout",
       "text": [
        "\n",
        "100 loops, best of 3: 2.68 ms per loop"
       ]
      },
      {
       "output_type": "stream",
       "stream": "stdout",
       "text": [
        "\n"
       ]
      }
     ],
     "prompt_number": 7
    },
    {
     "cell_type": "markdown",
     "metadata": {},
     "source": [
      "`(AB)C` is the optimal solution. `mdot` yields basically the same performace (plus some overhead)."
     ]
    },
    {
     "cell_type": "markdown",
     "metadata": {},
     "source": [
      "Let's determine the optimal solution to use it later:"
     ]
    },
    {
     "cell_type": "code",
     "collapsed": false,
     "input": [
      "print_optimal_chain_order(D, A, B, C)\n",
      "print_optimal_chain_order(D, A, B, C, names=list(\"DABC\"))"
     ],
     "language": "python",
     "metadata": {},
     "outputs": [
      {
       "output_type": "stream",
       "stream": "stdout",
       "text": [
        "np.dot(np.dot(M_0, np.dot(M_1, M_2)), M_3)\n",
        "np.dot(np.dot(D, np.dot(A, B)), C)\n"
       ]
      }
     ],
     "prompt_number": 10
    },
    {
     "cell_type": "markdown",
     "metadata": {},
     "source": [
      "Test 4 arguments"
     ]
    },
    {
     "cell_type": "code",
     "collapsed": false,
     "input": [
      "print \"inline optimization:\"\n",
      "%timeit mdot(D, A, B, C, optimize=True)\n",
      "print \"precalculated optimal parens\"\n",
      "%timeit np.dot(np.dot(D, np.dot(A, B)), C)\n",
      "\n",
      "%timeit np.dot(np.dot(np.dot(D, A), B), C)\n",
      "%timeit np.dot(np.dot(D, A), np.dot(B, C))\n",
      "%timeit np.dot(D, np.dot(A, np.dot(B, C)))\n",
      "%timeit np.dot(D, np.dot(np.dot(A, B), C))\n",
      "%timeit np.dot(np.dot(D, np.dot(A, B)), C)"
     ],
     "language": "python",
     "metadata": {},
     "outputs": [
      {
       "output_type": "stream",
       "stream": "stdout",
       "text": [
        "inline optimization:\n",
        "100 loops, best of 3: 5 ms per loop"
       ]
      },
      {
       "output_type": "stream",
       "stream": "stdout",
       "text": [
        "\n",
        "precalculated optimal parens\n",
        "100 loops, best of 3: 4.93 ms per loop"
       ]
      },
      {
       "output_type": "stream",
       "stream": "stdout",
       "text": [
        "\n",
        "1 loops, best of 3: 200 ms per loop"
       ]
      },
      {
       "output_type": "stream",
       "stream": "stdout",
       "text": [
        "\n",
        "1 loops, best of 3: 674 ms per loop"
       ]
      },
      {
       "output_type": "stream",
       "stream": "stdout",
       "text": [
        "\n",
        "100 loops, best of 3: 7.23 ms per loop"
       ]
      },
      {
       "output_type": "stream",
       "stream": "stdout",
       "text": [
        "\n",
        "100 loops, best of 3: 6.35 ms per loop"
       ]
      },
      {
       "output_type": "stream",
       "stream": "stdout",
       "text": [
        "\n",
        "100 loops, best of 3: 4.93 ms per loop"
       ]
      },
      {
       "output_type": "stream",
       "stream": "stdout",
       "text": [
        "\n"
       ]
      }
     ],
     "prompt_number": 6
    }
   ],
   "metadata": {}
  }
 ]
}